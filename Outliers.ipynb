{
 "cells": [
  {
   "cell_type": "code",
   "execution_count": 31,
   "id": "a522e661-4f04-4d4f-ab8f-6ae45f98dd9b",
   "metadata": {},
   "outputs": [],
   "source": [
    "import pandas as pd\n",
    "import seaborn as sns\n",
    "import matplotlib.pyplot as plt"
   ]
  },
  {
   "cell_type": "code",
   "execution_count": 32,
   "id": "5fd426d9-ee6e-4de7-b773-b0f9681b304b",
   "metadata": {},
   "outputs": [],
   "source": [
    "dataset= pd.read_excel(\"D:\\Study\\Machine Learning\\Outliers\\dataset1.xlsx\")"
   ]
  },
  {
   "cell_type": "code",
   "execution_count": 33,
   "id": "b4539024-18e9-4fb4-b841-fd2d8d4e8ee7",
   "metadata": {},
   "outputs": [
    {
     "data": {
      "text/html": [
       "<div>\n",
       "<style scoped>\n",
       "    .dataframe tbody tr th:only-of-type {\n",
       "        vertical-align: middle;\n",
       "    }\n",
       "\n",
       "    .dataframe tbody tr th {\n",
       "        vertical-align: top;\n",
       "    }\n",
       "\n",
       "    .dataframe thead th {\n",
       "        text-align: right;\n",
       "    }\n",
       "</style>\n",
       "<table border=\"1\" class=\"dataframe\">\n",
       "  <thead>\n",
       "    <tr style=\"text-align: right;\">\n",
       "      <th></th>\n",
       "      <th>type</th>\n",
       "      <th>Urgency</th>\n",
       "      <th>severity</th>\n",
       "      <th>priority</th>\n",
       "    </tr>\n",
       "  </thead>\n",
       "  <tbody>\n",
       "    <tr>\n",
       "      <th>0</th>\n",
       "      <td>Task</td>\n",
       "      <td>low</td>\n",
       "      <td>minor</td>\n",
       "      <td>4.0</td>\n",
       "    </tr>\n",
       "    <tr>\n",
       "      <th>5</th>\n",
       "      <td>Task</td>\n",
       "      <td>low</td>\n",
       "      <td>minor</td>\n",
       "      <td>4.0</td>\n",
       "    </tr>\n",
       "    <tr>\n",
       "      <th>8</th>\n",
       "      <td>Task</td>\n",
       "      <td>low</td>\n",
       "      <td>minor</td>\n",
       "      <td>4.0</td>\n",
       "    </tr>\n",
       "    <tr>\n",
       "      <th>9</th>\n",
       "      <td>Task</td>\n",
       "      <td>low</td>\n",
       "      <td>minor</td>\n",
       "      <td>4.0</td>\n",
       "    </tr>\n",
       "    <tr>\n",
       "      <th>10</th>\n",
       "      <td>Task</td>\n",
       "      <td>low</td>\n",
       "      <td>minor</td>\n",
       "      <td>4.0</td>\n",
       "    </tr>\n",
       "    <tr>\n",
       "      <th>...</th>\n",
       "      <td>...</td>\n",
       "      <td>...</td>\n",
       "      <td>...</td>\n",
       "      <td>...</td>\n",
       "    </tr>\n",
       "    <tr>\n",
       "      <th>485</th>\n",
       "      <td>Task</td>\n",
       "      <td>low</td>\n",
       "      <td>minor</td>\n",
       "      <td>4.0</td>\n",
       "    </tr>\n",
       "    <tr>\n",
       "      <th>486</th>\n",
       "      <td>Task</td>\n",
       "      <td>low</td>\n",
       "      <td>minor</td>\n",
       "      <td>4.0</td>\n",
       "    </tr>\n",
       "    <tr>\n",
       "      <th>487</th>\n",
       "      <td>Bug</td>\n",
       "      <td>low</td>\n",
       "      <td>minor</td>\n",
       "      <td>4.0</td>\n",
       "    </tr>\n",
       "    <tr>\n",
       "      <th>488</th>\n",
       "      <td>Bug</td>\n",
       "      <td>low</td>\n",
       "      <td>minor</td>\n",
       "      <td>4.0</td>\n",
       "    </tr>\n",
       "    <tr>\n",
       "      <th>489</th>\n",
       "      <td>Task</td>\n",
       "      <td>low</td>\n",
       "      <td>minor</td>\n",
       "      <td>4.0</td>\n",
       "    </tr>\n",
       "  </tbody>\n",
       "</table>\n",
       "<p>462 rows × 4 columns</p>\n",
       "</div>"
      ],
      "text/plain": [
       "     type Urgency severity  priority\n",
       "0    Task     low    minor       4.0\n",
       "5    Task     low    minor       4.0\n",
       "8    Task     low    minor       4.0\n",
       "9    Task     low    minor       4.0\n",
       "10   Task     low    minor       4.0\n",
       "..    ...     ...      ...       ...\n",
       "485  Task     low    minor       4.0\n",
       "486  Task     low    minor       4.0\n",
       "487   Bug     low    minor       4.0\n",
       "488   Bug     low    minor       4.0\n",
       "489  Task     low    minor       4.0\n",
       "\n",
       "[462 rows x 4 columns]"
      ]
     },
     "execution_count": 33,
     "metadata": {},
     "output_type": "execute_result"
    }
   ],
   "source": [
    "dataset.dropna()"
   ]
  },
  {
   "cell_type": "code",
   "execution_count": 34,
   "id": "d34ca749-799c-4b2d-b19b-215ff4774f0b",
   "metadata": {},
   "outputs": [
    {
     "data": {
      "text/html": [
       "<div>\n",
       "<style scoped>\n",
       "    .dataframe tbody tr th:only-of-type {\n",
       "        vertical-align: middle;\n",
       "    }\n",
       "\n",
       "    .dataframe tbody tr th {\n",
       "        vertical-align: top;\n",
       "    }\n",
       "\n",
       "    .dataframe thead th {\n",
       "        text-align: right;\n",
       "    }\n",
       "</style>\n",
       "<table border=\"1\" class=\"dataframe\">\n",
       "  <thead>\n",
       "    <tr style=\"text-align: right;\">\n",
       "      <th></th>\n",
       "      <th>priority</th>\n",
       "    </tr>\n",
       "  </thead>\n",
       "  <tbody>\n",
       "    <tr>\n",
       "      <th>count</th>\n",
       "      <td>480.000000</td>\n",
       "    </tr>\n",
       "    <tr>\n",
       "      <th>mean</th>\n",
       "      <td>3.229167</td>\n",
       "    </tr>\n",
       "    <tr>\n",
       "      <th>std</th>\n",
       "      <td>6.498240</td>\n",
       "    </tr>\n",
       "    <tr>\n",
       "      <th>min</th>\n",
       "      <td>1.000000</td>\n",
       "    </tr>\n",
       "    <tr>\n",
       "      <th>25%</th>\n",
       "      <td>1.000000</td>\n",
       "    </tr>\n",
       "    <tr>\n",
       "      <th>50%</th>\n",
       "      <td>4.000000</td>\n",
       "    </tr>\n",
       "    <tr>\n",
       "      <th>75%</th>\n",
       "      <td>4.000000</td>\n",
       "    </tr>\n",
       "    <tr>\n",
       "      <th>max</th>\n",
       "      <td>102.000000</td>\n",
       "    </tr>\n",
       "  </tbody>\n",
       "</table>\n",
       "</div>"
      ],
      "text/plain": [
       "         priority\n",
       "count  480.000000\n",
       "mean     3.229167\n",
       "std      6.498240\n",
       "min      1.000000\n",
       "25%      1.000000\n",
       "50%      4.000000\n",
       "75%      4.000000\n",
       "max    102.000000"
      ]
     },
     "execution_count": 34,
     "metadata": {},
     "output_type": "execute_result"
    }
   ],
   "source": [
    "dataset.describe()"
   ]
  },
  {
   "cell_type": "code",
   "execution_count": 47,
   "id": "f4cf0286-438e-4094-b4b9-09da90cd39d7",
   "metadata": {},
   "outputs": [
    {
     "data": {
      "image/png": "[encoded data removed]",
      "text/plain": [
       "<Figure size 1500x500 with 1 Axes>"
      ]
     },
     "metadata": {},
     "output_type": "display_data"
    }
   ],
   "source": [
    "plt.figure(figsize=(15,5))\n",
    "sns.boxplot(x=\"priority\",data=dataset)\n",
    "plt.show()"
   ]
  },
  {
   "cell_type": "code",
   "execution_count": 36,
   "id": "67258eed-2f9a-4da1-9d73-c105307c3658",
   "metadata": {},
   "outputs": [
    {
     "name": "stderr",
     "output_type": "stream",
     "text": [
      "C:\\Users\\Javairia\\AppData\\Local\\Temp\\ipykernel_1328\\4075147804.py:1: UserWarning: \n",
      "\n",
      "`distplot` is a deprecated function and will be removed in seaborn v0.14.0.\n",
      "\n",
      "Please adapt your code to use either `displot` (a figure-level function with\n",
      "similar flexibility) or `histplot` (an axes-level function for histograms).\n",
      "\n",
      "For a guide to updating your code to use the new functions, please see\n",
      "https://gist.github.com/mwaskom/de44147ed2974457ad6372750bbe5751\n",
      "\n",
      "  sns.distplot(dataset[\"priority\"])\n"
     ]
    },
    {
     "data": {
      "image/png": "[encoded data removed]",
      "text/plain": [
       "<Figure size 640x480 with 1 Axes>"
      ]
     },
     "metadata": {},
     "output_type": "display_data"
    }
   ],
   "source": [
    "sns.distplot(dataset[\"priority\"])\n",
    "plt.show()"
   ]
  },
  {
   "cell_type": "markdown",
   "id": "2e47c77e-8c8e-4238-b281-efec886997de",
   "metadata": {},
   "source": [
    "# Outlier removal using IQR"
   ]
  },
  {
   "cell_type": "markdown",
   "id": "7a0427fb-7f48-490f-85c4-e50b1f47f1c9",
   "metadata": {},
   "source": [
    "## first 25% data"
   ]
  },
  {
   "cell_type": "code",
   "execution_count": 37,
   "id": "15bc578f-1e5b-4625-a6e6-dfd9169b489e",
   "metadata": {},
   "outputs": [],
   "source": [
    "q1= dataset[\"priority\"].quantile(0.25)"
   ]
  },
  {
   "cell_type": "code",
   "execution_count": 38,
   "id": "36dae533-969d-4edc-9213-cf1edd5ead9d",
   "metadata": {},
   "outputs": [
    {
     "data": {
      "text/plain": [
       "1.0"
      ]
     },
     "execution_count": 38,
     "metadata": {},
     "output_type": "execute_result"
    }
   ],
   "source": [
    "q1"
   ]
  },
  {
   "cell_type": "markdown",
   "id": "30ba4a74-eed8-49bc-9fd8-2a8acf823219",
   "metadata": {},
   "source": [
    "## third quartile"
   ]
  },
  {
   "cell_type": "code",
   "execution_count": 39,
   "id": "9f9fe49f-6812-41ec-88b7-24184eb54e1b",
   "metadata": {},
   "outputs": [],
   "source": [
    "q3= dataset[\"priority\"].quantile(0.75)"
   ]
  },
  {
   "cell_type": "code",
   "execution_count": 40,
   "id": "70618d95-a98f-4466-ad19-7cab7f54bd89",
   "metadata": {},
   "outputs": [
    {
     "data": {
      "text/plain": [
       "4.0"
      ]
     },
     "execution_count": 40,
     "metadata": {},
     "output_type": "execute_result"
    }
   ],
   "source": [
    "q3"
   ]
  },
  {
   "cell_type": "code",
   "execution_count": 41,
   "id": "90afc2fd-d65b-4fe5-a1cd-0e2fb9d0a66e",
   "metadata": {},
   "outputs": [
    {
     "data": {
      "text/plain": [
       "3.0"
      ]
     },
     "execution_count": 41,
     "metadata": {},
     "output_type": "execute_result"
    }
   ],
   "source": [
    "IQR =q3-q1\n",
    "IQR"
   ]
  },
  {
   "cell_type": "code",
   "execution_count": 42,
   "id": "45f76f7e-c95f-4de0-bd9e-97520eaee7bd",
   "metadata": {},
   "outputs": [],
   "source": [
    "min_value= q1-(1.5*IQR)"
   ]
  },
  {
   "cell_type": "code",
   "execution_count": 43,
   "id": "bb3f8a1b-371c-41c0-885a-873e6e48dbf1",
   "metadata": {},
   "outputs": [
    {
     "data": {
      "text/plain": [
       "-3.5"
      ]
     },
     "execution_count": 43,
     "metadata": {},
     "output_type": "execute_result"
    }
   ],
   "source": [
    "min_value"
   ]
  },
  {
   "cell_type": "code",
   "execution_count": 44,
   "id": "3c09772c-dc16-400f-8686-8b89d99a434d",
   "metadata": {},
   "outputs": [],
   "source": [
    "max_value=q3+(1.5*IQR)"
   ]
  },
  {
   "cell_type": "code",
   "execution_count": 45,
   "id": "75349206-6642-4e79-9a34-5ac00e511a23",
   "metadata": {},
   "outputs": [
    {
     "data": {
      "text/plain": [
       "8.5"
      ]
     },
     "execution_count": 45,
     "metadata": {},
     "output_type": "execute_result"
    }
   ],
   "source": [
    "max_value"
   ]
  },
  {
   "cell_type": "code",
   "execution_count": 48,
   "id": "e59fecbf-31a0-4015-90bf-f317ae0a93e6",
   "metadata": {},
   "outputs": [],
   "source": [
    "new_dataset=dataset[dataset[\"priority\"]<= max_value]"
   ]
  },
  {
   "cell_type": "code",
   "execution_count": null,
   "id": "913bbdd3-d8e4-400f-89e0-65cc7d73e286",
   "metadata": {},
   "outputs": [],
   "source": []
  }
 ],
 "metadata": {
  "kernelspec": {
   "display_name": "Python 3 (ipykernel)",
   "language": "python",
   "name": "python3"
  },
  "language_info": {
   "codemirror_mode": {
    "name": "ipython",
    "version": 3
   },
   "file_extension": ".py",
   "mimetype": "text/x-python",
   "name": "python",
   "nbconvert_exporter": "python",
   "pygments_lexer": "ipython3",
   "version": "3.11.4"
  }
 },
 "nbformat": 4,
 "nbformat_minor": 5
}
